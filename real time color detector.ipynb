{
 "cells": [
  {
   "cell_type": "markdown",
   "metadata": {},
   "source": [
    "# colour detector using OpenCV"
   ]
  },
  {
   "cell_type": "code",
   "execution_count": 4,
   "metadata": {},
   "outputs": [],
   "source": [
    "import cv2\n",
    "import matplotlib.pyplot as plt \n",
    "import numpy as np \n",
    "import tkinter as tk\n",
    "from tkinter import *"
   ]
  },
  {
   "cell_type": "code",
   "execution_count": 5,
   "metadata": {},
   "outputs": [],
   "source": [
    "root=tk.Tk()\n",
    "root.geometry(\"450x200\")\n",
    "root\n",
    "def main():\n",
    "    if e.get()==\"1\":\n",
    "        cap=cv2.VideoCapture(0)\n",
    "        lower=np.array([0,0,200]) \n",
    "        upper=np.array([255,255,255])\n",
    "        while True:\n",
    "            ret,frame=cap.read()\n",
    "            old_frame=frame\n",
    "            mask=cv2.inRange(frame,lower,upper)\n",
    "            frame=cv2.bitwise_and(frame,frame,mask=mask)\n",
    "            c = cv2.waitKey(1)\n",
    "            if c == 27:\n",
    "                break\n",
    "            cv2.imshow(\"Frame\", old_frame)\n",
    "            cv2.imshow(\"webcam\", frame)\n",
    "        cap.release()\n",
    "        cv2.destroyAllWindows()\n",
    "\n",
    "    elif e.get()==\"2\":\n",
    "        cap=cv2.VideoCapture(0)\n",
    "        lower=np.array([0,200,0]) \n",
    "        upper=np.array([255,255,255])\n",
    "        while True:\n",
    "            ret,frame=cap.read()\n",
    "            old_frame=frame\n",
    "            mask=cv2.inRange(frame,lower,upper)\n",
    "            frame=cv2.bitwise_and(frame,frame,mask=mask)\n",
    "            c = cv2.waitKey(1)\n",
    "            if c == 27:\n",
    "                break\n",
    "            cv2.imshow(\"Frame\", old_frame)\n",
    "            cv2.imshow(\"webcam\", frame)\n",
    "        cap.release()\n",
    "        cv2.destroyAllWindows()\n",
    "    elif e.get()==\"3\":\n",
    "        cap=cv2.VideoCapture(0)\n",
    "        lower=np.array([200,0,00]) \n",
    "        upper=np.array([255,255,255])\n",
    "        while True:\n",
    "            ret,frame=cap.read()\n",
    "            old_frame=frame\n",
    "            mask=cv2.inRange(frame,lower,upper)\n",
    "            frame=cv2.bitwise_and(frame,frame,mask=mask)\n",
    "            c = cv2.waitKey(1)\n",
    "            if c == 27:\n",
    "                break\n",
    "            cv2.imshow(\"Frame\", old_frame)\n",
    "            cv2.imshow(\"webcam\", frame)\n",
    "        cap.release()\n",
    "        cv2.destroyAllWindows()\n",
    "    else:\n",
    "        print(\"wrong choice\")\n",
    "        \n",
    "lbl=Label(root,text=\"\"\"Detect red color\n",
    "  Detect green color\n",
    "  Detect blue color\"\"\",bg=\"cyan\",fg='black',font=\"TimesNewRoman 20 bold\")\n",
    "lbl.grid(row=1,column=0,padx=25, pady=15,ipadx=50 , ipady=0)\n",
    "\n",
    "\n",
    "btn=Button(root,text=\"click here\",fg=\"black\",command=lambda:main())\n",
    "btn.grid(row=3,column=0)\n",
    "\n",
    "e=Entry(root)\n",
    "e.grid(row=2,column=0)\n",
    "\n",
    "root.configure(bg=\"skyblue\")\n",
    "root.mainloop()                         \n",
    "              \n",
    "                         \n",
    "               "
   ]
  },
  {
   "cell_type": "code",
   "execution_count": null,
   "metadata": {},
   "outputs": [],
   "source": []
  }
 ],
 "metadata": {
  "kernelspec": {
   "display_name": "Python 3",
   "language": "python",
   "name": "python3"
  },
  "language_info": {
   "codemirror_mode": {
    "name": "ipython",
    "version": 3
   },
   "file_extension": ".py",
   "mimetype": "text/x-python",
   "name": "python",
   "nbconvert_exporter": "python",
   "pygments_lexer": "ipython3",
   "version": "3.7.4"
  }
 },
 "nbformat": 4,
 "nbformat_minor": 2
}
